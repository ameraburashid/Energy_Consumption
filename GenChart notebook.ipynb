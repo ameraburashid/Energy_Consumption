{
 "cells": [
  {
   "cell_type": "code",
   "execution_count": 2,
   "metadata": {},
   "outputs": [],
   "source": [
    "import pandas as pd \n",
    "import matplotlib.pyplot as plt \n",
    "import csv\n",
    "import statsmodels as sm\n"
   ]
  },
  {
   "cell_type": "markdown",
   "metadata": {},
   "source": [
    "## import the Genchart data and split it based on the fuel type \n"
   ]
  },
  {
   "cell_type": "code",
   "execution_count": 3,
   "metadata": {},
   "outputs": [],
   "source": [
    "def csv_reader(filepath, dataname):\n",
    "    with open(filepath, 'r') as file:\n",
    "        reader = csv.reader(file)\n",
    "        data = list(reader)\n",
    "    \n",
    "    globals()[dataname] = data\n",
    "\n",
    "\n",
    "def chart_to_dataframe(data_name, data):\n",
    "    df_name = 'df_' + data_name\n",
    "    globals()[df_name] = pd.DataFrame(data[1:], columns=data[0])\n",
    "    \n",
    "    if 'Date_MST' in globals()[df_name].columns:\n",
    "        date_column = 'Date_MST'\n",
    "    else:\n",
    "        date_column = '\\ufeffDate_MST'\n",
    "    \n",
    "    globals()[df_name][date_column] = pd.to_datetime(globals()[df_name][date_column]).dt.date\n",
    "    globals()[df_name]['Measure_Values'] = pd.to_numeric(globals()[df_name]['Measure_Values'], errors='coerce').astype(float)\n",
    "    \n",
    "    return globals()[df_name]"
   ]
  },
  {
   "cell_type": "code",
   "execution_count": 4,
   "metadata": {},
   "outputs": [],
   "source": [
    "path_genchart = r'C:\\Users\\amer_\\Documents\\GitHub\\Energy_Consumption\\Data\\Gen Chart_data_month.csv' #change based on your file path\n",
    "\n",
    "csv_reader(path_genchart, 'genchart_data')\n",
    "df_genchart_data = chart_to_dataframe('genchart_data', genchart_data)"
   ]
  },
  {
   "cell_type": "markdown",
   "metadata": {},
   "source": [
    "## create separate dataframes for each type of energy"
   ]
  },
  {
   "cell_type": "code",
   "execution_count": 5,
   "metadata": {},
   "outputs": [],
   "source": [
    "#fix small problem with the naming of Fuel_Type column \n",
    "df_genchart_data.rename(columns={'\\ufeffFuel_Type': 'Fuel_Type'}, inplace=True)\n",
    "\n",
    "#group Fueltype\n",
    "grouped_data = df_genchart_data.groupby('Fuel_Type')\n",
    "\n",
    "# Create a dictionary to store the separate groups\n",
    "fuel_type_dataframes = {}\n",
    "\n",
    "# Iterate over each group and create separate DataFrames\n",
    "for fuel_type, group in grouped_data:\n",
    "    fuel_type_dataframes[fuel_type] = group.copy().reset_index(drop=True)\n",
    "\n",
    "Coal_dataframe = fuel_type_dataframes['Coal']\n",
    "Cogeneration_dataframe = fuel_type_dataframes['Cogeneration']\n",
    "Combined_Cycle_dataframe = fuel_type_dataframes['Combined Cycle']\n",
    "Dual_Fuel_dataframe = fuel_type_dataframes['Dual Fuel']\n",
    "Gas_Fired_Steam_dataframe = fuel_type_dataframes['Gas Fired Steam']\n",
    "Hydro_dataframe = fuel_type_dataframes['Hydro']#renewable\n",
    "Other_dataframe = fuel_type_dataframes['Other']\n",
    "Simple_Cycle_dataframe = fuel_type_dataframes['Simple Cycle']\n",
    "Solar_dataframe = fuel_type_dataframes['Solar']#renewable\n",
    "Storage_dataframe = fuel_type_dataframes['Storage']\n",
    "Wind_dataframe = fuel_type_dataframes['Wind']#renewable\n",
    "\n"
   ]
  },
  {
   "cell_type": "markdown",
   "metadata": {},
   "source": [
    "## create 4 dataframes with the following classifications:\n",
    "- renewable before 2019\n",
    "- renewable after 2019\n",
    "- non-renewable before 2019\n",
    "- non-renewable after 2019\n"
   ]
  },
  {
   "cell_type": "code",
   "execution_count": 16,
   "metadata": {},
   "outputs": [
    {
     "name": "stderr",
     "output_type": "stream",
     "text": [
      "C:\\Users\\amer_\\AppData\\Local\\Temp\\ipykernel_2328\\741989622.py:2: FutureWarning: Comparison of Timestamp with datetime.date is deprecated in order to match the standard library behavior. In a future version these will be considered non-comparable. Use 'ts == pd.Timestamp(date)' or 'ts.date() == date' instead.\n",
      "  renewable_prior_2019 = renewable_prior_2019[renewable_prior_2019['Date_MST'] < pd.to_datetime('2019-01-01')]\n",
      "C:\\Users\\amer_\\AppData\\Local\\Temp\\ipykernel_2328\\741989622.py:5: FutureWarning: Comparison of Timestamp with datetime.date is deprecated in order to match the standard library behavior. In a future version these will be considered non-comparable. Use 'ts == pd.Timestamp(date)' or 'ts.date() == date' instead.\n",
      "  renewable_after_2019 = renewable_after_2019[renewable_after_2019['Date_MST'] >= pd.to_datetime('2019-01-01')]\n",
      "C:\\Users\\amer_\\AppData\\Local\\Temp\\ipykernel_2328\\741989622.py:16: FutureWarning: Comparison of Timestamp with datetime.date is deprecated in order to match the standard library behavior. In a future version these will be considered non-comparable. Use 'ts == pd.Timestamp(date)' or 'ts.date() == date' instead.\n",
      "  non_renewable_prior_2019 = non_renewable_prior_2019[non_renewable_prior_2019['Date_MST'] < pd.to_datetime('2019-01-01')]\n",
      "C:\\Users\\amer_\\AppData\\Local\\Temp\\ipykernel_2328\\741989622.py:26: FutureWarning: Comparison of Timestamp with datetime.date is deprecated in order to match the standard library behavior. In a future version these will be considered non-comparable. Use 'ts == pd.Timestamp(date)' or 'ts.date() == date' instead.\n",
      "  non_renewable_after_2019 = non_renewable_after_2019[non_renewable_after_2019['Date_MST'] >= pd.to_datetime('2019-01-01')]\n"
     ]
    }
   ],
   "source": [
    "renewable_prior_2019 = pd.concat([Hydro_dataframe, Solar_dataframe, Wind_dataframe])\n",
    "renewable_prior_2019 = renewable_prior_2019[renewable_prior_2019['Date_MST'] < pd.to_datetime('2019-01-01')]\n",
    "\n",
    "renewable_after_2019 = pd.concat([Hydro_dataframe, Solar_dataframe, Wind_dataframe])\n",
    "renewable_after_2019 = renewable_after_2019[renewable_after_2019['Date_MST'] >= pd.to_datetime('2019-01-01')]\n",
    "\n",
    "\n",
    "non_renewable_prior_2019 = pd.concat([Coal_dataframe, \n",
    "                                      Cogeneration_dataframe,\n",
    "                                      Combined_Cycle_dataframe,\n",
    "                                      Dual_Fuel_dataframe,\n",
    "                                      Gas_Fired_Steam_dataframe,\n",
    "                                      Simple_Cycle_dataframe,\n",
    "                                      Storage_dataframe\n",
    "                                      ])\n",
    "non_renewable_prior_2019 = non_renewable_prior_2019[non_renewable_prior_2019['Date_MST'] < pd.to_datetime('2019-01-01')]\n",
    "\n",
    "non_renewable_after_2019 = pd.concat([Coal_dataframe, \n",
    "                                      Cogeneration_dataframe,\n",
    "                                      Combined_Cycle_dataframe,\n",
    "                                      Dual_Fuel_dataframe,\n",
    "                                      Gas_Fired_Steam_dataframe,\n",
    "                                      Simple_Cycle_dataframe,\n",
    "                                      Storage_dataframe\n",
    "                                      ])\n",
    "non_renewable_after_2019 = non_renewable_after_2019[non_renewable_after_2019['Date_MST'] >= pd.to_datetime('2019-01-01')]\n",
    "\n"
   ]
  },
  {
   "cell_type": "markdown",
   "metadata": {},
   "source": [
    "## Create Visuals for each fueltype over time "
   ]
  },
  {
   "cell_type": "code",
   "execution_count": null,
   "metadata": {},
   "outputs": [],
   "source": [
    "fig, axes = plt.subplots(len(fuel_type_dataframes), 1, figsize=(10, 6 * len(fuel_type_dataframes)))\n",
    "\n",
    "# Iterate over fuel types and create scatterplot for each one\n",
    "for i, (fuel_type, dataframe) in enumerate(fuel_type_dataframes.items()):\n",
    "    ax = axes[i] if len(fuel_type_dataframes) > 1 else axes  # Handle single subplot case\n",
    "    ax.scatter(dataframe['Date_MST'], dataframe['Measure_Values'])\n",
    "    ax.set_title(fuel_type)\n",
    "    ax.set_xlabel('Date')\n",
    "    ax.set_ylabel('Measure Values')\n",
    "    ax.grid(True)\n",
    "\n",
    "plt.tight_layout()\n",
    "plt.show()"
   ]
  },
  {
   "cell_type": "code",
   "execution_count": 20,
   "metadata": {},
   "outputs": [
    {
     "data": {
      "text/html": [
       "<div>\n",
       "<style scoped>\n",
       "    .dataframe tbody tr th:only-of-type {\n",
       "        vertical-align: middle;\n",
       "    }\n",
       "\n",
       "    .dataframe tbody tr th {\n",
       "        vertical-align: top;\n",
       "    }\n",
       "\n",
       "    .dataframe thead th {\n",
       "        text-align: right;\n",
       "    }\n",
       "</style>\n",
       "<table border=\"1\" class=\"dataframe\">\n",
       "  <thead>\n",
       "    <tr style=\"text-align: right;\">\n",
       "      <th></th>\n",
       "      <th>Fuel_Type</th>\n",
       "      <th>Measure_Values</th>\n",
       "    </tr>\n",
       "    <tr>\n",
       "      <th>Fuel_Type</th>\n",
       "      <th></th>\n",
       "      <th></th>\n",
       "    </tr>\n",
       "  </thead>\n",
       "  <tbody>\n",
       "    <tr>\n",
       "      <th>Coal</th>\n",
       "      <td>505</td>\n",
       "      <td>3831.794812</td>\n",
       "    </tr>\n",
       "    <tr>\n",
       "      <th>Cogeneration</th>\n",
       "      <td>505</td>\n",
       "      <td>3448.002829</td>\n",
       "    </tr>\n",
       "    <tr>\n",
       "      <th>Combined Cycle</th>\n",
       "      <td>505</td>\n",
       "      <td>1417.304980</td>\n",
       "    </tr>\n",
       "    <tr>\n",
       "      <th>Dual Fuel</th>\n",
       "      <td>280</td>\n",
       "      <td>356.546944</td>\n",
       "    </tr>\n",
       "    <tr>\n",
       "      <th>Gas Fired Steam</th>\n",
       "      <td>140</td>\n",
       "      <td>1514.988573</td>\n",
       "    </tr>\n",
       "    <tr>\n",
       "      <th>Hydro</th>\n",
       "      <td>505</td>\n",
       "      <td>582.855805</td>\n",
       "    </tr>\n",
       "    <tr>\n",
       "      <th>Other</th>\n",
       "      <td>505</td>\n",
       "      <td>223.489154</td>\n",
       "    </tr>\n",
       "    <tr>\n",
       "      <th>Simple Cycle</th>\n",
       "      <td>505</td>\n",
       "      <td>645.700382</td>\n",
       "    </tr>\n",
       "    <tr>\n",
       "      <th>Solar</th>\n",
       "      <td>330</td>\n",
       "      <td>205.268231</td>\n",
       "    </tr>\n",
       "    <tr>\n",
       "      <th>Storage</th>\n",
       "      <td>160</td>\n",
       "      <td>28.839647</td>\n",
       "    </tr>\n",
       "    <tr>\n",
       "      <th>Wind</th>\n",
       "      <td>505</td>\n",
       "      <td>1288.605361</td>\n",
       "    </tr>\n",
       "  </tbody>\n",
       "</table>\n",
       "</div>"
      ],
      "text/plain": [
       "                 Fuel_Type  Measure_Values\n",
       "Fuel_Type                                 \n",
       "Coal                   505     3831.794812\n",
       "Cogeneration           505     3448.002829\n",
       "Combined Cycle         505     1417.304980\n",
       "Dual Fuel              280      356.546944\n",
       "Gas Fired Steam        140     1514.988573\n",
       "Hydro                  505      582.855805\n",
       "Other                  505      223.489154\n",
       "Simple Cycle           505      645.700382\n",
       "Solar                  330      205.268231\n",
       "Storage                160       28.839647\n",
       "Wind                   505     1288.605361"
      ]
     },
     "execution_count": 20,
     "metadata": {},
     "output_type": "execute_result"
    }
   ],
   "source": [
    "#Testing a dataframe grouping the fueltypes \n",
    "grouped = df_genchart_data.groupby(['Fuel_Type',]).aggregate(\n",
    "    {'Fuel_Type': 'count', 'Measure_Values': 'mean',})\n",
    "\n",
    "grouped"
   ]
  },
  {
   "cell_type": "code",
   "execution_count": 23,
   "metadata": {},
   "outputs": [
    {
     "name": "stdout",
     "output_type": "stream",
     "text": [
      "T-statistic value:  nan\n",
      "P-Value:  nan\n"
     ]
    },
    {
     "name": "stderr",
     "output_type": "stream",
     "text": [
      "C:\\Users\\amer_\\AppData\\Local\\Temp\\ipykernel_2328\\2525473405.py:6: RuntimeWarning: Precision loss occurred in moment calculation due to catastrophic cancellation. This occurs when the data are nearly identical. Results may be unreliable.\n",
      "  t_stat, p_value = ttest_ind(renewable_prior_2019_mean, renewable_after_2019_mean)\n"
     ]
    }
   ],
   "source": [
    "#trying to test for the mean and compare... the result shows problems with the test statistics\n",
    "\n",
    "renewable_prior_2019_mean = renewable_prior_2019['Measure_Values'].mean()\n",
    "renewable_after_2019_mean = renewable_after_2019['Measure_Values'].mean()\n",
    "\n",
    "from scipy.stats import ttest_ind\n",
    "\n",
    "t_stat, p_value = ttest_ind(renewable_prior_2019_mean, renewable_after_2019_mean)\n",
    "print(\"T-statistic value: \", t_stat)  \n",
    "print(\"P-Value: \", p_value)\n"
   ]
  },
  {
   "cell_type": "code",
   "execution_count": 25,
   "metadata": {},
   "outputs": [
    {
     "name": "stdout",
     "output_type": "stream",
     "text": [
      "T-statistic value: -1.8381998985662218\n",
      "P-Value: 0.06625452045205846\n"
     ]
    }
   ],
   "source": [
    "# t-test statistics for the renewable energy source \n",
    "\n",
    "t_stat, p_value = ttest_ind(renewable_prior_2019['Measure_Values'], renewable_after_2019['Measure_Values'])\n",
    "print(\"T-statistic value:\", t_stat)  \n",
    "print(\"P-Value:\", p_value)\n",
    "# at 1.838 and p>0.05 then the test fails and there is no significance "
   ]
  },
  {
   "cell_type": "code",
   "execution_count": 27,
   "metadata": {},
   "outputs": [
    {
     "name": "stdout",
     "output_type": "stream",
     "text": [
      "T-statistic value: 11.861808507138061\n",
      "P-Value: 1.2068391830361018e-31\n"
     ]
    }
   ],
   "source": [
    "# t-test statistics for the non-renewable energy source \n",
    "\n",
    "t_stat, p_value = ttest_ind(non_renewable_prior_2019['Measure_Values'], non_renewable_after_2019['Measure_Values'])\n",
    "print(\"T-statistic value:\", t_stat)  \n",
    "print(\"P-Value:\", p_value)\n",
    "\n",
    "# at 11.86 std deviation away from the mean and p< 0.05, the test is significant "
   ]
  },
  {
   "cell_type": "code",
   "execution_count": null,
   "metadata": {},
   "outputs": [],
   "source": []
  }
 ],
 "metadata": {
  "kernelspec": {
   "display_name": "compass_env",
   "language": "python",
   "name": "python3"
  },
  "language_info": {
   "codemirror_mode": {
    "name": "ipython",
    "version": 3
   },
   "file_extension": ".py",
   "mimetype": "text/x-python",
   "name": "python",
   "nbconvert_exporter": "python",
   "pygments_lexer": "ipython3",
   "version": "3.9.16"
  },
  "orig_nbformat": 4
 },
 "nbformat": 4,
 "nbformat_minor": 2
}
